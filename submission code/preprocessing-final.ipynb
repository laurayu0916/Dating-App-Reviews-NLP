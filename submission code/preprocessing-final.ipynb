{
 "cells": [
  {
   "cell_type": "code",
   "execution_count": 1,
   "metadata": {},
   "outputs": [
    {
     "name": "stdout",
     "output_type": "stream",
     "text": [
      "LOAD DURATION:  0:00:02.812432\n"
     ]
    }
   ],
   "source": [
    "# ML library\n",
    "from datetime import datetime\n",
    "start_time = datetime.now()\n",
    "\n",
    "import matplotlib.cbook as cbook\n",
    "\n",
    "import numpy as np\n",
    "import matplotlib.pyplot as plt\n",
    "from IPython.display import display as d\n",
    "from IPython.display import Audio\n",
    "\n",
    "import pandas as pd\n",
    "import nltk\n",
    "from sklearn.feature_extraction.text import CountVectorizer\n",
    "import sys\n",
    "from nltk.corpus import stopwords\n",
    "import re\n",
    "\n",
    "print('LOAD DURATION: ', datetime.now() - start_time) # about a minute"
   ]
  },
  {
   "cell_type": "code",
   "execution_count": null,
   "metadata": {},
   "outputs": [],
   "source": [
    "data=pd.read_csv('DatingAppReviewsDataset.csv')"
   ]
  },
  {
   "cell_type": "markdown",
   "metadata": {},
   "source": [
    "# Preprocessing"
   ]
  },
  {
   "cell_type": "code",
   "execution_count": 34,
   "metadata": {},
   "outputs": [
    {
     "name": "stdout",
     "output_type": "stream",
     "text": [
      "<class 'pandas.core.frame.DataFrame'>\n",
      "RangeIndex: 681994 entries, 0 to 681993\n",
      "Data columns (total 6 columns):\n",
      " #   Column     Non-Null Count   Dtype \n",
      "---  ------     --------------   ----- \n",
      " 0   Name       681989 non-null  object\n",
      " 1   Review     680642 non-null  object\n",
      " 2   Rating     681994 non-null  int64 \n",
      " 3   #ThumbsUp  681994 non-null  int64 \n",
      " 4   Date&Time  681994 non-null  object\n",
      " 5   App        681994 non-null  object\n",
      "dtypes: int64(2), object(4)\n",
      "memory usage: 31.2+ MB\n"
     ]
    }
   ],
   "source": [
    "data=data.iloc[:,1:]\n",
    "data.info()"
   ]
  },
  {
   "cell_type": "code",
   "execution_count": 35,
   "metadata": {},
   "outputs": [
    {
     "name": "stdout",
     "output_type": "stream",
     "text": [
      "<class 'pandas.core.frame.DataFrame'>\n",
      "RangeIndex: 518394 entries, 0 to 518393\n",
      "Data columns (total 6 columns):\n",
      " #   Column     Non-Null Count   Dtype \n",
      "---  ------     --------------   ----- \n",
      " 0   Name       518389 non-null  object\n",
      " 1   Review     518394 non-null  object\n",
      " 2   Rating     518394 non-null  int64 \n",
      " 3   #ThumbsUp  518394 non-null  int64 \n",
      " 4   Date&Time  518394 non-null  object\n",
      " 5   App        518394 non-null  object\n",
      "dtypes: int64(2), object(4)\n",
      "memory usage: 23.7+ MB\n"
     ]
    }
   ],
   "source": [
    "# drop duplicate and empty review\n",
    "data.drop_duplicates('Review', inplace=True)\n",
    "data=data.dropna(subset=['Review'])\n",
    "data=data.reset_index(drop=True)\n",
    "data.info()"
   ]
  },
  {
   "cell_type": "code",
   "execution_count": 36,
   "metadata": {},
   "outputs": [
    {
     "name": "stderr",
     "output_type": "stream",
     "text": [
      "C:\\Users\\YUFENG~1\\AppData\\Local\\Temp/ipykernel_52072/3733981557.py:5: FutureWarning: The default value of regex will change from True to False in a future version.\n",
      "  data['Review']=data['Review'].str.replace(r\"\\s\\s+\",' ') # replace duplicate space into single space\n"
     ]
    }
   ],
   "source": [
    "# Remove \"\\n\", \"<br />\"\n",
    "\n",
    "data['Review']=data['Review'].str.replace('\\n','')\n",
    "data['Review']=data['Review'].str.replace(\"<br />\",' ')\n",
    "data['Review']=data['Review'].str.replace(r\"\\s\\s+\",' ') # replace duplicate space into single space\n",
    "# lines[i]=re.sub(\"[0-9]\",\"\",lines[i])"
   ]
  },
  {
   "cell_type": "markdown",
   "metadata": {},
   "source": [
    "## Deal With emoji,urls and so on"
   ]
  },
  {
   "cell_type": "code",
   "execution_count": 38,
   "metadata": {},
   "outputs": [],
   "source": [
    "from textacy.preprocessing.replace import urls, hashtags, numbers, emails, emojis, currency_symbols # change these kinds of words\n",
    "data[\"Review\"] = data[\"Review\"].apply(urls).apply(hashtags).apply(currency_symbols).apply(emojis).apply(emails)"
   ]
  },
  {
   "cell_type": "markdown",
   "metadata": {},
   "source": [
    "## Detect Different Language"
   ]
  },
  {
   "cell_type": "code",
   "execution_count": 40,
   "metadata": {},
   "outputs": [
    {
     "name": "stdout",
     "output_type": "stream",
     "text": [
      "Wall time: 52min 55s\n"
     ]
    }
   ],
   "source": [
    "%%time\n",
    "# language detection\n",
    "# time: 52 mins for all review\n",
    "from langdetect import detect\n",
    "from langdetect import detect_langs\n",
    "lang=[]\n",
    "for i in range(len(data)):\n",
    "\n",
    "    try:\n",
    "        lang.append(detect(data.loc[i,'Review']))\n",
    "    except:\n",
    "        lang.append('undetect')\n",
    "\n"
   ]
  },
  {
   "cell_type": "code",
   "execution_count": 41,
   "metadata": {},
   "outputs": [],
   "source": [
    "data['language']=lang"
   ]
  },
  {
   "cell_type": "code",
   "execution_count": null,
   "metadata": {},
   "outputs": [],
   "source": [
    "# lowercase text\n",
    "data['Review']=data['Review'].str.lower()"
   ]
  },
  {
   "cell_type": "markdown",
   "metadata": {},
   "source": [
    "## Get English Review"
   ]
  },
  {
   "cell_type": "code",
   "execution_count": 44,
   "metadata": {},
   "outputs": [],
   "source": [
    "data.to_csv('review_with_language.csv',index=None)"
   ]
  },
  {
   "cell_type": "code",
   "execution_count": 3,
   "metadata": {},
   "outputs": [],
   "source": [
    "data=pd.read_csv('review_with_language.csv')"
   ]
  },
  {
   "cell_type": "code",
   "execution_count": 4,
   "metadata": {},
   "outputs": [
    {
     "name": "stdout",
     "output_type": "stream",
     "text": [
      "<class 'pandas.core.frame.DataFrame'>\n",
      "RangeIndex: 461947 entries, 0 to 461946\n",
      "Data columns (total 7 columns):\n",
      " #   Column     Non-Null Count   Dtype \n",
      "---  ------     --------------   ----- \n",
      " 0   Name       461942 non-null  object\n",
      " 1   Review     461947 non-null  object\n",
      " 2   Rating     461947 non-null  int64 \n",
      " 3   #ThumbsUp  461947 non-null  int64 \n",
      " 4   Date&Time  461947 non-null  object\n",
      " 5   App        461947 non-null  object\n",
      " 6   language   461947 non-null  object\n",
      "dtypes: int64(2), object(5)\n",
      "memory usage: 24.7+ MB\n"
     ]
    }
   ],
   "source": [
    "data_en=data.loc[data['language']=='en',:]\n",
    "data_en.reset_index(drop=True,inplace=True)\n",
    "data_en.info()"
   ]
  },
  {
   "cell_type": "markdown",
   "metadata": {},
   "source": [
    "## Lemmatization and Remove Stop Words"
   ]
  },
  {
   "cell_type": "code",
   "execution_count": 6,
   "metadata": {},
   "outputs": [
    {
     "name": "stderr",
     "output_type": "stream",
     "text": [
      "C:\\Users\\YUFENG~1\\AppData\\Local\\Temp/ipykernel_3216/2717216701.py:2: FutureWarning: The default value of regex will change from True to False in a future version.\n",
      "  data_en['Review']=data_en['Review'].str.replace(r\"(can)'t\",r'\\1 not')\n",
      "C:\\Users\\YUFENG~1\\AppData\\Local\\Temp/ipykernel_3216/2717216701.py:2: SettingWithCopyWarning: \n",
      "A value is trying to be set on a copy of a slice from a DataFrame.\n",
      "Try using .loc[row_indexer,col_indexer] = value instead\n",
      "\n",
      "See the caveats in the documentation: https://pandas.pydata.org/pandas-docs/stable/user_guide/indexing.html#returning-a-view-versus-a-copy\n",
      "  data_en['Review']=data_en['Review'].str.replace(r\"(can)'t\",r'\\1 not')\n",
      "C:\\Users\\YUFENG~1\\AppData\\Local\\Temp/ipykernel_3216/2717216701.py:3: FutureWarning: The default value of regex will change from True to False in a future version.\n",
      "  data_en['Review']=data_en['Review'].str.replace(r\"(should|has|have|did|do|does|is|are|was|were|could|must)n't\",r'\\1 not')\n",
      "C:\\Users\\YUFENG~1\\AppData\\Local\\Temp/ipykernel_3216/2717216701.py:3: SettingWithCopyWarning: \n",
      "A value is trying to be set on a copy of a slice from a DataFrame.\n",
      "Try using .loc[row_indexer,col_indexer] = value instead\n",
      "\n",
      "See the caveats in the documentation: https://pandas.pydata.org/pandas-docs/stable/user_guide/indexing.html#returning-a-view-versus-a-copy\n",
      "  data_en['Review']=data_en['Review'].str.replace(r\"(should|has|have|did|do|does|is|are|was|were|could|must)n't\",r'\\1 not')\n",
      "C:\\Users\\YUFENG~1\\AppData\\Local\\Temp/ipykernel_3216/2717216701.py:4: FutureWarning: The default value of regex will change from True to False in a future version.\n",
      "  data_en['Review']=data_en['Review'].str.replace(r\"(should|has|have|did|do|does|is|are|was|were|could|must|can) not\",r'\\1 not')\n",
      "C:\\Users\\YUFENG~1\\AppData\\Local\\Temp/ipykernel_3216/2717216701.py:4: SettingWithCopyWarning: \n",
      "A value is trying to be set on a copy of a slice from a DataFrame.\n",
      "Try using .loc[row_indexer,col_indexer] = value instead\n",
      "\n",
      "See the caveats in the documentation: https://pandas.pydata.org/pandas-docs/stable/user_guide/indexing.html#returning-a-view-versus-a-copy\n",
      "  data_en['Review']=data_en['Review'].str.replace(r\"(should|has|have|did|do|does|is|are|was|were|could|must|can) not\",r'\\1 not')\n",
      "C:\\Users\\YUFENG~1\\AppData\\Local\\Temp/ipykernel_3216/2717216701.py:7: FutureWarning: The default value of regex will change from True to False in a future version.\n",
      "  data_en['Review']=data_en['Review'].str.replace(r\"(i)'m\",r'\\1 am')\n",
      "C:\\Users\\YUFENG~1\\AppData\\Local\\Temp/ipykernel_3216/2717216701.py:7: SettingWithCopyWarning: \n",
      "A value is trying to be set on a copy of a slice from a DataFrame.\n",
      "Try using .loc[row_indexer,col_indexer] = value instead\n",
      "\n",
      "See the caveats in the documentation: https://pandas.pydata.org/pandas-docs/stable/user_guide/indexing.html#returning-a-view-versus-a-copy\n",
      "  data_en['Review']=data_en['Review'].str.replace(r\"(i)'m\",r'\\1 am')\n",
      "C:\\Users\\YUFENG~1\\AppData\\Local\\Temp/ipykernel_3216/2717216701.py:8: FutureWarning: The default value of regex will change from True to False in a future version.\n",
      "  data_en['Review']=data_en['Review'].str.replace(r\"(i)'ll\",r'\\1 will')\n",
      "C:\\Users\\YUFENG~1\\AppData\\Local\\Temp/ipykernel_3216/2717216701.py:8: SettingWithCopyWarning: \n",
      "A value is trying to be set on a copy of a slice from a DataFrame.\n",
      "Try using .loc[row_indexer,col_indexer] = value instead\n",
      "\n",
      "See the caveats in the documentation: https://pandas.pydata.org/pandas-docs/stable/user_guide/indexing.html#returning-a-view-versus-a-copy\n",
      "  data_en['Review']=data_en['Review'].str.replace(r\"(i)'ll\",r'\\1 will')\n",
      "C:\\Users\\YUFENG~1\\AppData\\Local\\Temp/ipykernel_3216/2717216701.py:9: FutureWarning: The default value of regex will change from True to False in a future version.\n",
      "  data_en['Review']=data_en['Review'].str.replace(r\"(it)'s\",r'\\1 is')\n",
      "C:\\Users\\YUFENG~1\\AppData\\Local\\Temp/ipykernel_3216/2717216701.py:9: SettingWithCopyWarning: \n",
      "A value is trying to be set on a copy of a slice from a DataFrame.\n",
      "Try using .loc[row_indexer,col_indexer] = value instead\n",
      "\n",
      "See the caveats in the documentation: https://pandas.pydata.org/pandas-docs/stable/user_guide/indexing.html#returning-a-view-versus-a-copy\n",
      "  data_en['Review']=data_en['Review'].str.replace(r\"(it)'s\",r'\\1 is')\n",
      "C:\\Users\\YUFENG~1\\AppData\\Local\\Temp/ipykernel_3216/2717216701.py:10: FutureWarning: The default value of regex will change from True to False in a future version.\n",
      "  data_en['Review']=data_en['Review'].str.replace(r\"(you)'re\",r'\\1 are')\n",
      "C:\\Users\\YUFENG~1\\AppData\\Local\\Temp/ipykernel_3216/2717216701.py:10: SettingWithCopyWarning: \n",
      "A value is trying to be set on a copy of a slice from a DataFrame.\n",
      "Try using .loc[row_indexer,col_indexer] = value instead\n",
      "\n",
      "See the caveats in the documentation: https://pandas.pydata.org/pandas-docs/stable/user_guide/indexing.html#returning-a-view-versus-a-copy\n",
      "  data_en['Review']=data_en['Review'].str.replace(r\"(you)'re\",r'\\1 are')\n",
      "C:\\Users\\YUFENG~1\\AppData\\Local\\Temp/ipykernel_3216/2717216701.py:11: FutureWarning: The default value of regex will change from True to False in a future version.\n",
      "  data_en['Review']=data_en['Review'].str.replace(r\"(i|you|they)'ve\",r'\\1 have')\n",
      "C:\\Users\\YUFENG~1\\AppData\\Local\\Temp/ipykernel_3216/2717216701.py:11: SettingWithCopyWarning: \n",
      "A value is trying to be set on a copy of a slice from a DataFrame.\n",
      "Try using .loc[row_indexer,col_indexer] = value instead\n",
      "\n",
      "See the caveats in the documentation: https://pandas.pydata.org/pandas-docs/stable/user_guide/indexing.html#returning-a-view-versus-a-copy\n",
      "  data_en['Review']=data_en['Review'].str.replace(r\"(i|you|they)'ve\",r'\\1 have')\n"
     ]
    }
   ],
   "source": [
    "\n",
    "# change some modal verb because when doing lemmatization, it will change \"shouldn't\" to \"should n't\"\n",
    "data_en['Review']=data_en['Review'].str.replace(r\"(can)'t\",r'\\1 not')\n",
    "data_en['Review']=data_en['Review'].str.replace(r\"(should|has|have|did|do|does|is|are|was|were|could|must)n't\",r'\\1 not')\n",
    "data_en['Review']=data_en['Review'].str.replace(r\"(should|has|have|did|do|does|is|are|was|were|could|must|can) not\",r'\\1 not')\n",
    "\n",
    "# i'm -> i am| it's -> it is \n",
    "data_en['Review']=data_en['Review'].str.replace(r\"(i)'m\",r'\\1 am')\n",
    "data_en['Review']=data_en['Review'].str.replace(r\"(i)'ll\",r'\\1 will')\n",
    "data_en['Review']=data_en['Review'].str.replace(r\"(it)'s\",r'\\1 is')\n",
    "data_en['Review']=data_en['Review'].str.replace(r\"(you)'re\",r'\\1 are')\n",
    "data_en['Review']=data_en['Review'].str.replace(r\"(i|you|they)'ve\",r'\\1 have')\n"
   ]
  },
  {
   "cell_type": "code",
   "execution_count": 7,
   "metadata": {},
   "outputs": [],
   "source": [
    "## lemmatization\n",
    "## https://gist.github.com/gaurav5430/9fce93759eb2f6b1697883c3782f30de#file-nltk-lemmatize-sentences-py\n",
    "import nltk\n",
    "from nltk.stem import WordNetLemmatizer\n",
    "from nltk.corpus import wordnet\n",
    "from nltk.tokenize import word_tokenize\n",
    "lemmatizer = WordNetLemmatizer()\n",
    "\n",
    "# function to convert nltk tag to wordnet tag\n",
    "def nltk_tag_to_wordnet_tag(nltk_tag):\n",
    "    if nltk_tag.startswith('J'):\n",
    "        return wordnet.ADJ\n",
    "    elif nltk_tag.startswith('V'):\n",
    "        return wordnet.VERB\n",
    "    elif nltk_tag.startswith('N'):\n",
    "        return wordnet.NOUN\n",
    "    elif nltk_tag.startswith('R'):\n",
    "        return wordnet.ADV\n",
    "    else:          \n",
    "        return None\n",
    "\n",
    "def lemmatize_sentence(sentence):\n",
    "    #tokenize the sentence and find the POS tag for each token\n",
    "    nltk_tagged = nltk.pos_tag(nltk.word_tokenize(sentence))  \n",
    "    #tuple of (token, wordnet_tag)\n",
    "    wordnet_tagged = map(lambda x: (x[0], nltk_tag_to_wordnet_tag(x[1])), nltk_tagged)\n",
    "    lemmatized_sentence = []\n",
    "    for word, tag in wordnet_tagged:\n",
    "        if tag is None:\n",
    "            #if there is no available tag, append the token as is\n",
    "            lemmatized_sentence.append(word)\n",
    "        else:        \n",
    "            #else use the tag to lemmatize the token\n",
    "            lemmatized_sentence.append(lemmatizer.lemmatize(word, tag))\n",
    "    return \" \".join(lemmatized_sentence)"
   ]
  },
  {
   "cell_type": "code",
   "execution_count": 8,
   "metadata": {},
   "outputs": [
    {
     "name": "stderr",
     "output_type": "stream",
     "text": [
      "d:\\anaconda\\lib\\site-packages\\pandas\\core\\indexing.py:1817: SettingWithCopyWarning: \n",
      "A value is trying to be set on a copy of a slice from a DataFrame.\n",
      "Try using .loc[row_indexer,col_indexer] = value instead\n",
      "\n",
      "See the caveats in the documentation: https://pandas.pydata.org/pandas-docs/stable/user_guide/indexing.html#returning-a-view-versus-a-copy\n",
      "  self._setitem_single_column(loc, value, pi)\n"
     ]
    }
   ],
   "source": [
    "# lemmatize\n",
    "# time:17mins\n",
    "# time : 206mins\n",
    "for i in range(len(data_en)):\n",
    "    data_en.loc[i,'Review']=lemmatize_sentence(data_en.loc[i,'Review'])"
   ]
  },
  {
   "cell_type": "code",
   "execution_count": null,
   "metadata": {},
   "outputs": [],
   "source": [
    "data_en.to_csv('reivew_after_lemma.csv',index=None)"
   ]
  },
  {
   "cell_type": "markdown",
   "metadata": {},
   "source": [
    "## Use Regex to Group Word"
   ]
  },
  {
   "cell_type": "code",
   "execution_count": 57,
   "metadata": {},
   "outputs": [
    {
     "name": "stderr",
     "output_type": "stream",
     "text": [
      "C:\\Users\\YUFENG~1\\AppData\\Local\\Temp/ipykernel_52072/1014543160.py:1: FutureWarning: The default value of regex will change from True to False in a future version.\n",
      "  data_en['Review']=data_en['Review'].str.replace(r\"\\b(?:cancel|cancelled|canceled)\\b\",'cancel',case=False)\n",
      "C:\\Users\\YUFENG~1\\AppData\\Local\\Temp/ipykernel_52072/1014543160.py:1: SettingWithCopyWarning: \n",
      "A value is trying to be set on a copy of a slice from a DataFrame.\n",
      "Try using .loc[row_indexer,col_indexer] = value instead\n",
      "\n",
      "See the caveats in the documentation: https://pandas.pydata.org/pandas-docs/stable/user_guide/indexing.html#returning-a-view-versus-a-copy\n",
      "  data_en['Review']=data_en['Review'].str.replace(r\"\\b(?:cancel|cancelled|canceled)\\b\",'cancel',case=False)\n",
      "C:\\Users\\YUFENG~1\\AppData\\Local\\Temp/ipykernel_52072/1014543160.py:2: FutureWarning: The default value of regex will change from True to False in a future version.\n",
      "  data_en['Review']=data_en['Review'].str.replace(r\"\\b(?:location|position)\\b\",'location',case=False)\n",
      "C:\\Users\\YUFENG~1\\AppData\\Local\\Temp/ipykernel_52072/1014543160.py:2: SettingWithCopyWarning: \n",
      "A value is trying to be set on a copy of a slice from a DataFrame.\n",
      "Try using .loc[row_indexer,col_indexer] = value instead\n",
      "\n",
      "See the caveats in the documentation: https://pandas.pydata.org/pandas-docs/stable/user_guide/indexing.html#returning-a-view-versus-a-copy\n",
      "  data_en['Review']=data_en['Review'].str.replace(r\"\\b(?:location|position)\\b\",'location',case=False)\n",
      "C:\\Users\\YUFENG~1\\AppData\\Local\\Temp/ipykernel_52072/1014543160.py:3: FutureWarning: The default value of regex will change from True to False in a future version.\n",
      "  data_en['Review']=data_en['Review'].str.replace(r\"\\b(?:block|ban)\\b\",'block',case=False)\n",
      "C:\\Users\\YUFENG~1\\AppData\\Local\\Temp/ipykernel_52072/1014543160.py:3: SettingWithCopyWarning: \n",
      "A value is trying to be set on a copy of a slice from a DataFrame.\n",
      "Try using .loc[row_indexer,col_indexer] = value instead\n",
      "\n",
      "See the caveats in the documentation: https://pandas.pydata.org/pandas-docs/stable/user_guide/indexing.html#returning-a-view-versus-a-copy\n",
      "  data_en['Review']=data_en['Review'].str.replace(r\"\\b(?:block|ban)\\b\",'block',case=False)\n",
      "C:\\Users\\YUFENG~1\\AppData\\Local\\Temp/ipykernel_52072/1014543160.py:4: FutureWarning: The default value of regex will change from True to False in a future version.\n",
      "  data_en['Review']=data_en['Review'].str.replace(r\"\\b(?:respond|reply|reponse)\\b\",'response',case=False)\n",
      "C:\\Users\\YUFENG~1\\AppData\\Local\\Temp/ipykernel_52072/1014543160.py:4: SettingWithCopyWarning: \n",
      "A value is trying to be set on a copy of a slice from a DataFrame.\n",
      "Try using .loc[row_indexer,col_indexer] = value instead\n",
      "\n",
      "See the caveats in the documentation: https://pandas.pydata.org/pandas-docs/stable/user_guide/indexing.html#returning-a-view-versus-a-copy\n",
      "  data_en['Review']=data_en['Review'].str.replace(r\"\\b(?:respond|reply|reponse)\\b\",'response',case=False)\n",
      "C:\\Users\\YUFENG~1\\AppData\\Local\\Temp/ipykernel_52072/1014543160.py:5: FutureWarning: The default value of regex will change from True to False in a future version.\n",
      "  data_en['Review']=data_en['Review'].str.replace(r\"\\b(?:love|like|perfer)\\b\",'love',case=False)\n",
      "C:\\Users\\YUFENG~1\\AppData\\Local\\Temp/ipykernel_52072/1014543160.py:5: SettingWithCopyWarning: \n",
      "A value is trying to be set on a copy of a slice from a DataFrame.\n",
      "Try using .loc[row_indexer,col_indexer] = value instead\n",
      "\n",
      "See the caveats in the documentation: https://pandas.pydata.org/pandas-docs/stable/user_guide/indexing.html#returning-a-view-versus-a-copy\n",
      "  data_en['Review']=data_en['Review'].str.replace(r\"\\b(?:love|like|perfer)\\b\",'love',case=False)\n",
      "C:\\Users\\YUFENG~1\\AppData\\Local\\Temp/ipykernel_52072/1014543160.py:6: FutureWarning: The default value of regex will change from True to False in a future version.\n",
      "  data_en['Review']=data_en['Review'].str.replace(r\"\\b(?:wrong|error|mistake)\\b\",'error',case=False)\n",
      "C:\\Users\\YUFENG~1\\AppData\\Local\\Temp/ipykernel_52072/1014543160.py:6: SettingWithCopyWarning: \n",
      "A value is trying to be set on a copy of a slice from a DataFrame.\n",
      "Try using .loc[row_indexer,col_indexer] = value instead\n",
      "\n",
      "See the caveats in the documentation: https://pandas.pydata.org/pandas-docs/stable/user_guide/indexing.html#returning-a-view-versus-a-copy\n",
      "  data_en['Review']=data_en['Review'].str.replace(r\"\\b(?:wrong|error|mistake)\\b\",'error',case=False)\n",
      "C:\\Users\\YUFENG~1\\AppData\\Local\\Temp/ipykernel_52072/1014543160.py:7: FutureWarning: The default value of regex will change from True to False in a future version.\n",
      "  data_en['Review']=data_en['Review'].str.replace(r\"\\b(?:bot|robot)\\b\",'robot',case=False)\n",
      "C:\\Users\\YUFENG~1\\AppData\\Local\\Temp/ipykernel_52072/1014543160.py:7: SettingWithCopyWarning: \n",
      "A value is trying to be set on a copy of a slice from a DataFrame.\n",
      "Try using .loc[row_indexer,col_indexer] = value instead\n",
      "\n",
      "See the caveats in the documentation: https://pandas.pydata.org/pandas-docs/stable/user_guide/indexing.html#returning-a-view-versus-a-copy\n",
      "  data_en['Review']=data_en['Review'].str.replace(r\"\\b(?:bot|robot)\\b\",'robot',case=False)\n",
      "C:\\Users\\YUFENG~1\\AppData\\Local\\Temp/ipykernel_52072/1014543160.py:8: FutureWarning: The default value of regex will change from True to False in a future version.\n",
      "  data_en['Review']=data_en['Review'].str.replace(r\"\\b(?:issue|problem)\\b\",'issue',case=False)\n",
      "C:\\Users\\YUFENG~1\\AppData\\Local\\Temp/ipykernel_52072/1014543160.py:8: SettingWithCopyWarning: \n",
      "A value is trying to be set on a copy of a slice from a DataFrame.\n",
      "Try using .loc[row_indexer,col_indexer] = value instead\n",
      "\n",
      "See the caveats in the documentation: https://pandas.pydata.org/pandas-docs/stable/user_guide/indexing.html#returning-a-view-versus-a-copy\n",
      "  data_en['Review']=data_en['Review'].str.replace(r\"\\b(?:issue|problem)\\b\",'issue',case=False)\n",
      "C:\\Users\\YUFENG~1\\AppData\\Local\\Temp/ipykernel_52072/1014543160.py:9: FutureWarning: The default value of regex will change from True to False in a future version.\n",
      "  data_en['Review']=data_en['Review'].str.replace(r\"\\b(?:cheat|fraud|scam|fake)\\b\",'scam',case=False)\n",
      "C:\\Users\\YUFENG~1\\AppData\\Local\\Temp/ipykernel_52072/1014543160.py:9: SettingWithCopyWarning: \n",
      "A value is trying to be set on a copy of a slice from a DataFrame.\n",
      "Try using .loc[row_indexer,col_indexer] = value instead\n",
      "\n",
      "See the caveats in the documentation: https://pandas.pydata.org/pandas-docs/stable/user_guide/indexing.html#returning-a-view-versus-a-copy\n",
      "  data_en['Review']=data_en['Review'].str.replace(r\"\\b(?:cheat|fraud|scam|fake)\\b\",'scam',case=False)\n",
      "C:\\Users\\YUFENG~1\\AppData\\Local\\Temp/ipykernel_52072/1014543160.py:12: FutureWarning: The default value of regex will change from True to False in a future version.\n",
      "  data_en['Review']=data_en['Review'].str.replace(r\"\\b(?:men|man|male|boy)\\b\",'male',case=False)\n",
      "C:\\Users\\YUFENG~1\\AppData\\Local\\Temp/ipykernel_52072/1014543160.py:12: SettingWithCopyWarning: \n",
      "A value is trying to be set on a copy of a slice from a DataFrame.\n",
      "Try using .loc[row_indexer,col_indexer] = value instead\n",
      "\n",
      "See the caveats in the documentation: https://pandas.pydata.org/pandas-docs/stable/user_guide/indexing.html#returning-a-view-versus-a-copy\n",
      "  data_en['Review']=data_en['Review'].str.replace(r\"\\b(?:men|man|male|boy)\\b\",'male',case=False)\n",
      "C:\\Users\\YUFENG~1\\AppData\\Local\\Temp/ipykernel_52072/1014543160.py:13: FutureWarning: The default value of regex will change from True to False in a future version.\n",
      "  data_en['Review']=data_en['Review'].str.replace(r\"\\b(?:women|woman|female|girl|lady)\\b\",'female',case=False)\n",
      "C:\\Users\\YUFENG~1\\AppData\\Local\\Temp/ipykernel_52072/1014543160.py:13: SettingWithCopyWarning: \n",
      "A value is trying to be set on a copy of a slice from a DataFrame.\n",
      "Try using .loc[row_indexer,col_indexer] = value instead\n",
      "\n",
      "See the caveats in the documentation: https://pandas.pydata.org/pandas-docs/stable/user_guide/indexing.html#returning-a-view-versus-a-copy\n",
      "  data_en['Review']=data_en['Review'].str.replace(r\"\\b(?:women|woman|female|girl|lady)\\b\",'female',case=False)\n",
      "C:\\Users\\YUFENG~1\\AppData\\Local\\Temp/ipykernel_52072/1014543160.py:14: FutureWarning: The default value of regex will change from True to False in a future version.\n",
      "  data_en['Review']=data_en['Review'].str.replace(r\"\\b(?:date|dating)\\b\",'dating',case=False)\n",
      "C:\\Users\\YUFENG~1\\AppData\\Local\\Temp/ipykernel_52072/1014543160.py:14: SettingWithCopyWarning: \n",
      "A value is trying to be set on a copy of a slice from a DataFrame.\n",
      "Try using .loc[row_indexer,col_indexer] = value instead\n",
      "\n",
      "See the caveats in the documentation: https://pandas.pydata.org/pandas-docs/stable/user_guide/indexing.html#returning-a-view-versus-a-copy\n",
      "  data_en['Review']=data_en['Review'].str.replace(r\"\\b(?:date|dating)\\b\",'dating',case=False)\n",
      "C:\\Users\\YUFENG~1\\AppData\\Local\\Temp/ipykernel_52072/1014543160.py:15: FutureWarning: The default value of regex will change from True to False in a future version.\n",
      "  data_en['Review']=data_en['Review'].str.replace(r\"\\b(?:real|true)\\b\",'real',case=False)\n",
      "C:\\Users\\YUFENG~1\\AppData\\Local\\Temp/ipykernel_52072/1014543160.py:15: SettingWithCopyWarning: \n",
      "A value is trying to be set on a copy of a slice from a DataFrame.\n",
      "Try using .loc[row_indexer,col_indexer] = value instead\n",
      "\n",
      "See the caveats in the documentation: https://pandas.pydata.org/pandas-docs/stable/user_guide/indexing.html#returning-a-view-versus-a-copy\n",
      "  data_en['Review']=data_en['Review'].str.replace(r\"\\b(?:real|true)\\b\",'real',case=False)\n",
      "C:\\Users\\YUFENG~1\\AppData\\Local\\Temp/ipykernel_52072/1014543160.py:18: FutureWarning: The default value of regex will change from True to False in a future version.\n",
      "  data_en['Review']=data_en['Review'].str.replace(r'\\b(?:years?-? ?|yrs?-? ?)(?:old)\\b','year old',case=False)\n",
      "C:\\Users\\YUFENG~1\\AppData\\Local\\Temp/ipykernel_52072/1014543160.py:18: SettingWithCopyWarning: \n",
      "A value is trying to be set on a copy of a slice from a DataFrame.\n",
      "Try using .loc[row_indexer,col_indexer] = value instead\n",
      "\n",
      "See the caveats in the documentation: https://pandas.pydata.org/pandas-docs/stable/user_guide/indexing.html#returning-a-view-versus-a-copy\n",
      "  data_en['Review']=data_en['Review'].str.replace(r'\\b(?:years?-? ?|yrs?-? ?)(?:old)\\b','year old',case=False)\n",
      "C:\\Users\\YUFENG~1\\AppData\\Local\\Temp/ipykernel_52072/1014543160.py:21: FutureWarning: The default value of regex will change from True to False in a future version.\n",
      "  data_en['Review']=data_en['Review'].str.replace(r'\\b(?:excellent|good|great|well|perfect|nice|fantastic|best|amaze|amazing|awesome|adorable|perfectly)\\b','good',case=False)\n",
      "C:\\Users\\YUFENG~1\\AppData\\Local\\Temp/ipykernel_52072/1014543160.py:21: SettingWithCopyWarning: \n",
      "A value is trying to be set on a copy of a slice from a DataFrame.\n",
      "Try using .loc[row_indexer,col_indexer] = value instead\n",
      "\n",
      "See the caveats in the documentation: https://pandas.pydata.org/pandas-docs/stable/user_guide/indexing.html#returning-a-view-versus-a-copy\n",
      "  data_en['Review']=data_en['Review'].str.replace(r'\\b(?:excellent|good|great|well|perfect|nice|fantastic|best|amaze|amazing|awesome|adorable|perfectly)\\b','good',case=False)\n"
     ]
    }
   ],
   "source": [
    "\n",
    "# group similar meanings words\n",
    "\n",
    "data_en['Review']=data_en['Review'].str.replace(r\"\\b(?:cancel|cancelled|canceled)\\b\",'cancel',case=False) \n",
    "data_en['Review']=data_en['Review'].str.replace(r\"\\b(?:location|position)\\b\",'location',case=False) \n",
    "data_en['Review']=data_en['Review'].str.replace(r\"\\b(?:block|ban)\\b\",'block',case=False) \n",
    "data_en['Review']=data_en['Review'].str.replace(r\"\\b(?:respond|reply|reponse)\\b\",'response',case=False) \n",
    "data_en['Review']=data_en['Review'].str.replace(r\"\\b(?:love|like|perfer)\\b\",'love',case=False) \n",
    "data_en['Review']=data_en['Review'].str.replace(r\"\\b(?:wrong|error|mistake)\\b\",'error',case=False) \n",
    "data_en['Review']=data_en['Review'].str.replace(r\"\\b(?:bot|robot)\\b\",'robot',case=False) \n",
    "data_en['Review']=data_en['Review'].str.replace(r\"\\b(?:issue|problem)\\b\",'issue',case=False) \n",
    "data_en['Review']=data_en['Review'].str.replace(r\"\\b(?:cheat|fraud|scam|fake)\\b\",'scam',case=False) \n",
    "\n",
    "data_en['Review']=data_en['Review'].str.replace(r\"\\b(?:men|man|male|boy)\\b\",'male',case=False) \n",
    "data_en['Review']=data_en['Review'].str.replace(r\"\\b(?:women|woman|female|girl|lady)\\b\",'female',case=False) \n",
    "data_en['Review']=data_en['Review'].str.replace(r\"\\b(?:date|dating)\\b\",'dating',case=False) \n",
    "data_en['Review']=data_en['Review'].str.replace(r\"\\b(?:real|true)\\b\",'real',case=False) \n",
    "\n",
    "\n",
    "data_en['Review']=data_en['Review'].str.replace(r'\\b(?:years?-? ?|yrs?-? ?)(?:old)\\b','year old',case=False)\n",
    "\n",
    "\n",
    "data_en['Review']=data_en['Review'].str.replace(r'\\b(?:excellent|good|great|well|perfect|nice|fantastic|best|amaze|amazing|awesome|adorable|perfectly)\\b','good',case=False)\n"
   ]
  },
  {
   "cell_type": "markdown",
   "metadata": {},
   "source": [
    "## Output Clean Data"
   ]
  },
  {
   "cell_type": "code",
   "execution_count": 60,
   "metadata": {},
   "outputs": [],
   "source": [
    "clean_data=data_en.loc[(data_en['App']=='Bumble') |(data_en['App']=='Hinge') ,:]"
   ]
  },
  {
   "cell_type": "code",
   "execution_count": 61,
   "metadata": {},
   "outputs": [],
   "source": [
    "clean_data.to_csv(\"bumble_hinge_review.csv\",index=None)"
   ]
  }
 ],
 "metadata": {
  "interpreter": {
   "hash": "5179d32cf6ec497baf3f8a3ef987cc77c5d2dc691fdde20a56316522f61a7323"
  },
  "kernelspec": {
   "display_name": "Python 3.8.8 ('base')",
   "language": "python",
   "name": "python3"
  },
  "language_info": {
   "codemirror_mode": {
    "name": "ipython",
    "version": 3
   },
   "file_extension": ".py",
   "mimetype": "text/x-python",
   "name": "python",
   "nbconvert_exporter": "python",
   "pygments_lexer": "ipython3",
   "version": "3.8.8"
  },
  "orig_nbformat": 4
 },
 "nbformat": 4,
 "nbformat_minor": 2
}
